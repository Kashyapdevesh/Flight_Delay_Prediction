{
 "cells": [
  {
   "cell_type": "code",
   "execution_count": null,
   "id": "d862fdde",
   "metadata": {},
   "outputs": [],
   "source": [
    "import pandas as pd\n",
    "import numpy  as np\n",
    "import seaborn as sns\n",
    "import matplotlib.pyplot as plt\n",
    "%matplotlib inline"
   ]
  },
  {
   "cell_type": "markdown",
   "id": "4443f5f2",
   "metadata": {},
   "source": [
    "### function to convert the time in the specific format"
   ]
  },
  {
   "cell_type": "code",
   "execution_count": null,
   "id": "02d94d17",
   "metadata": {},
   "outputs": [],
   "source": [
    "def ampm(x):\n",
    "    dat = x.split()\n",
    "    if(dat[1]=='PM'):\n",
    "        temp1 = dat[0].split(\":\")\n",
    "        temp = str(int(temp1[0])+12)\n",
    "        if(temp=='24'):\n",
    "            temp = \"00\"\n",
    "        fin = temp +\":\"+temp1[1]\n",
    "    else:\n",
    "        fin = dat[0]\n",
    "    return fin"
   ]
  },
  {
   "cell_type": "code",
   "execution_count": null,
   "id": "67b8a9e6",
   "metadata": {},
   "outputs": [],
   "source": [
    "def preprocess(year):\n",
    "    for i in range(1,13):\n",
    "    if(i<10):\n",
    "        month = \"0\"+str(i)\n",
    "    else:\n",
    "        month = str(i)\n",
    "    #print(month)\n",
    "    if((i==1) | (i==3) | (i==5) | (i==7) | (i==8) | (i==10) | (i==12)):\n",
    "        for j in range(1,32):\n",
    "            if(j<10):\n",
    "                date = \"0\"+str(j)\n",
    "            else:\n",
    "                date = str(j)\n",
    "            try:\n",
    "                df= pd.read_csv(string1+\"-\"+month+\"-\"+date+'.csv')\n",
    "                df['time'] = df['Time'].map(ampm)\n",
    "                df['time'] = df['time']+ \" \" + df['Date']\n",
    "                df['time'] = pd.to_datetime(df['time'],format = \"%H:%M %Y-%m-%d\")\n",
    "                df.to_csv(string2+\"-\"+month+\"-\"+date+'.csv')\n",
    "            except:\n",
    "                print(date,month)\n",
    "    elif(i==2):\n",
    "        for j in range(1,28):\n",
    "            if(j<10):\n",
    "                date = \"0\"+str(j)\n",
    "            else:\n",
    "                date = str(j)\n",
    "            try:\n",
    "                df= pd.read_csv(string1+\"-\"+month+\"-\"+date+'.csv')\n",
    "                df['time'] = df['Time'].map(ampm)\n",
    "                df['time'] = df['time']+ \" \" + df['Date']\n",
    "                df['time'] = pd.to_datetime(df['time'],format = \"%H:%M %Y-%m-%d\")\n",
    "                df.to_csv(string2+\"-\"+month+\"-\"+date+'.csv')\n",
    "            except:\n",
    "                print(date,month)\n",
    "    else:\n",
    "        for j in range(1,31):\n",
    "            if(j<10):\n",
    "                date = \"0\"+str(j)\n",
    "            else:\n",
    "                date = str(j)\n",
    "            try:\n",
    "                df= pd.read_csv(string1+\"-\"+month+\"-\"+date+'.csv')\n",
    "                df['time'] = df['Time'].map(ampm)\n",
    "                df['time'] = df['time']+ \" \" + df['Date']\n",
    "                df['time'] = pd.to_datetime(df['time'],format = \"%H:%M %Y-%m-%d\")\n",
    "                df.to_csv(string2+\"-\"+month+\"-\"+date+'.csv')\n",
    "            except:\n",
    "                print(date,month)\n",
    "    return 1"
   ]
  },
  {
   "cell_type": "code",
   "execution_count": null,
   "id": "1b3c2d4e",
   "metadata": {},
   "outputs": [],
   "source": [
    "years = [2016,2017,2018]\n",
    "for i in years:\n",
    "    string1 = \"./\"+str(i)+\".csv\"\n",
    "    string2 = \"./output/\"+str(i)+\"csv\"\n",
    "    month,date=\"\",\"\"\n",
    "    preprocess(i)"
   ]
  },
  {
   "cell_type": "code",
   "execution_count": null,
   "id": "9d1c976d",
   "metadata": {},
   "outputs": [],
   "source": [
    "def merge(year):\n",
    "    string1 = './'+year+\".csv\"\n",
    "    month,date=\"\",\"\"\n",
    "    cnt=0\n",
    "    for i in range(1,13):\n",
    "        if(i<10):\n",
    "            month = \"0\"+str(i)\n",
    "        else:\n",
    "            month = str(i)\n",
    "        #print(month)\n",
    "        if((i==1) | (i==3) | (i==5) | (i==7) | (i==8) | (i==10) | (i==12)):\n",
    "            for j in range(1,32):\n",
    "                if(j<10):\n",
    "                    date = \"0\"+str(j)\n",
    "                else:\n",
    "                    date = str(j)\n",
    "                df= pd.read_csv(string1+\"-\"+month+\"-\"+date+'.csv')\n",
    "                df.drop(['Time','Date'],axis=1,inplace=True)\n",
    "                cnt=cnt+1\n",
    "                if((i==1) & (cnt==1)):\n",
    "                    df1= df\n",
    "                else:\n",
    "                    df1= pd.concat([df1,df])\n",
    "                #print(date)\n",
    "        elif(i==2):\n",
    "            for j in range(1,28):\n",
    "                if(j<10):\n",
    "                    date = \"0\"+str(j)\n",
    "                else:\n",
    "                    date = str(j)\n",
    "                df= pd.read_csv(string1+\"-\"+month+\"-\"+date+'.csv')\n",
    "                df.drop(['Time','Date'],axis=1,inplace=True)\n",
    "                df1= pd.concat([df1,df])\n",
    "        else:\n",
    "            for j in range(1,31):\n",
    "                if(j<10):\n",
    "                    date = \"0\"+str(j)\n",
    "                else:\n",
    "                    date = str(j)\n",
    "                df= pd.read_csv(string1+\"-\"+month+\"-\"+date+'.csv')\n",
    "                df.drop(['Time','Date'],axis=1,inplace=True)\n",
    "                df1= pd.concat([df1,df])\n",
    "    df1.drop(['Unnamed: 0','Unnamed: 0.1'],axis=1,inplace=True)\n",
    "    df1.reset_index(inplace=True)\n",
    "    df1.drop('index',axis=1,inplace=True)\n",
    "    df1.to_csv('./merge'+year+'.csv')\n",
    "    return 1"
   ]
  },
  {
   "cell_type": "code",
   "execution_count": null,
   "id": "e1c0ef0d",
   "metadata": {},
   "outputs": [],
   "source": [
    "years = [2016,2017,2018]\n",
    "for i in years:\n",
    "    merge(i)"
   ]
  },
  {
   "cell_type": "code",
   "execution_count": null,
   "id": "c9c15664",
   "metadata": {},
   "outputs": [],
   "source": [
    "flights = pd.read_csv(\"./flights.csv\")"
   ]
  },
  {
   "cell_type": "code",
   "execution_count": null,
   "id": "70d22785",
   "metadata": {},
   "outputs": [],
   "source": [
    "atl = flights[flights['DEST']=='ATL'].copy(deep=True)"
   ]
  },
  {
   "cell_type": "code",
   "execution_count": null,
   "id": "07e02319",
   "metadata": {},
   "outputs": [],
   "source": [
    "atl.drop(['Unnamed: 27','OP_CARRIER','OP_CARRIER_FL_NUM','SECURITY_DELAY','NAS_DELAY','CANCELLATION_CODE','TAXI_OUT','ARR_TIME'],axis=1,inplace=True)\n",
    "atl.head()"
   ]
  },
  {
   "cell_type": "code",
   "execution_count": null,
   "id": "322f2e8d",
   "metadata": {},
   "outputs": [],
   "source": [
    "weat = pd.read_csv('./merge.csv',index_col='Unnamed: 0')\n",
    "weat.head()"
   ]
  },
  {
   "cell_type": "code",
   "execution_count": null,
   "id": "bd9d7be5",
   "metadata": {},
   "outputs": [],
   "source": [
    "names = weat.drop('time',axis=1).columns\n",
    "atl[names] = 0\n",
    "atl.head()"
   ]
  },
  {
   "cell_type": "code",
   "execution_count": null,
   "id": "88d18816",
   "metadata": {},
   "outputs": [],
   "source": [
    "import missingno as ms\n",
    "ms.matrix(atl)"
   ]
  },
  {
   "cell_type": "code",
   "execution_count": null,
   "id": "e8d6b8bc",
   "metadata": {},
   "outputs": [],
   "source": [
    "atl = atl[atl['DEP_TIME'].isna()==False]"
   ]
  },
  {
   "cell_type": "code",
   "execution_count": null,
   "id": "dd089518",
   "metadata": {},
   "outputs": [],
   "source": [
    "atl.loc[atl['DEP_TIME']>=2400,'DEP_TIME'] = 0"
   ]
  },
  {
   "cell_type": "code",
   "execution_count": null,
   "id": "510bab23",
   "metadata": {},
   "outputs": [],
   "source": [
    "atl['time'] = atl['DEP_TIME'].astype('str').str.split(\".\",expand=True)[0]"
   ]
  },
  {
   "cell_type": "code",
   "execution_count": null,
   "id": "f8b110fc",
   "metadata": {},
   "outputs": [],
   "source": [
    "def timest(x):\n",
    "    if(len(x)==2):\n",
    "        x= \"00\"+x\n",
    "    elif(len(x)==1):\n",
    "        x=\"000\"+x\n",
    "    return x\n",
    "atl['time']=atl['time'].map(timest)"
   ]
  },
  {
   "cell_type": "code",
   "execution_count": null,
   "id": "82dddfd0",
   "metadata": {},
   "outputs": [],
   "source": [
    "weat['time'] = pd.to_datetime(weat['time'],format=\"%Y-%m-%d %H:%M:%S\")"
   ]
  },
  {
   "cell_type": "code",
   "execution_count": null,
   "id": "ee6cada7",
   "metadata": {},
   "outputs": [],
   "source": [
    "atl['time'] = atl['time'] + \" \"+ atl['FL_DATE']"
   ]
  },
  {
   "cell_type": "markdown",
   "id": "7b5bb9e9",
   "metadata": {},
   "source": [
    "## the final loop for value imputations"
   ]
  },
  {
   "cell_type": "code",
   "execution_count": null,
   "id": "67b89eb7",
   "metadata": {},
   "outputs": [],
   "source": [
    "arr = []\n",
    "for i in range(1,13):\n",
    "    if((i==1) | (i==3) | (i==5) | (i==7) | (i==8) | (i==10) | (i==12)):\n",
    "        for j in range(1,32):\n",
    "            for k in weat[(weat['time'].dt.day==j) & (weat['time'].dt.month==i)]['time'].dt.hour.unique():\n",
    "                arr.append(np.array(weat[(weat['time'].dt.day==j) & (weat['time'].dt.month==i) & (weat['time'].dt.hour==k)])[0])\n",
    "    elif(i==2):\n",
    "        for j in range(1,28):\n",
    "            for k in weat[(weat['time'].dt.day==j) & (weat['time'].dt.month==i)]['time'].dt.hour.unique():\n",
    "                arr.append(np.array(weat[(weat['time'].dt.day==j) & (weat['time'].dt.month==i) & (weat['time'].dt.hour==k)])[0])\n",
    "    else:\n",
    "        for j in range(1,31):\n",
    "            for k in weat[(weat['time'].dt.day==j) & (weat['time'].dt.month==i)]['time'].dt.hour.unique():\n",
    "                arr.append(np.array(weat[(weat['time'].dt.day==j) & (weat['time'].dt.month==i) & (weat['time'].dt.hour==k)])[0])\n"
   ]
  },
  {
   "cell_type": "code",
   "execution_count": null,
   "id": "450f6e79",
   "metadata": {},
   "outputs": [],
   "source": [
    "atl['time'] = pd.to_datetime(atl['time'],format=\"%H%M %Y-%m-%d\")"
   ]
  },
  {
   "cell_type": "code",
   "execution_count": null,
   "id": "422a13f9",
   "metadata": {},
   "outputs": [],
   "source": [
    "temp = {}\n",
    "for i in range(0,len(arr)):\n",
    "    temp[i] = arr[i]\n",
    "weather = pd.DataFrame(temp).transpose()\n",
    "weather.columns = weat.columns"
   ]
  },
  {
   "cell_type": "code",
   "execution_count": null,
   "id": "51a31e7e",
   "metadata": {},
   "outputs": [],
   "source": [
    "for i in range(1,13):\n",
    "    for j in range(1,32):\n",
    "        hoursunique = ATL.loc[(ATL['time'].dt.day==j) & (ATL['time'].dt.month==i)]['time'].dt.hour.unique()\n",
    "        for k in hoursunique:\n",
    "            if(len(weat[(weat['time'].dt.hour==k) & (weat['time'].dt.day==j) & (weat['time'].dt.month==i)]['Temperature'].values)>0):\n",
    "                ans = weat[(weat['time'].dt.hour==k) & (weat['time'].dt.day==j) & (weat['time'].dt.month==i)]['Temperature'].values[0]\n",
    "                #print(ans)\n",
    "                ATL.loc[(ATL['time'].dt.day==j) & (ATL['time'].dt.month==i) & (ATL['time'].dt.hour==k) ,'Temperature'] = ans\n",
    "                print(ATL.loc[(ATL['time'].dt.day==j) & (ATL['time'].dt.month==i) & (ATL['time'].dt.hour==k) ,'Temperature'])\n",
    "\n",
    "for i in range(1,13):\n",
    "    for j in range(1,32):\n",
    "        hoursunique = ATL.loc[(ATL['time'].dt.day==j) & (ATL['time'].dt.month==i)]['time'].dt.hour.unique()\n",
    "        for k in hoursunique:\n",
    "            if(len(weat[(weat['time'].dt.hour==k) & (weat['time'].dt.day==j) & (weat['time'].dt.month==i)]['Condition'].values)>0):\n",
    "                ans = weat[(weat['time'].dt.hour==k) & (weat['time'].dt.day==j) & (weat['time'].dt.month==i)]['Condition'].values[0]\n",
    "                #print(ans)\n",
    "                ATL.loc[(ATL['time'].dt.day==j) & (ATL['time'].dt.month==i) & (ATL['time'].dt.hour==k) ,'Condition'] = ans\n",
    "                print(ATL.loc[(ATL['time'].dt.day==j) & (ATL['time'].dt.month==i) & (ATL['time'].dt.hour==k) ,'Condition'])\n",
    "\n",
    "for i in range(1,13):\n",
    "    for j in range(1,32):\n",
    "        hoursunique = ATL.loc[(ATL['time'].dt.day==j) & (ATL['time'].dt.month==i)]['time'].dt.hour.unique()\n",
    "        for k in hoursunique:\n",
    "            if(len(weat[(weat['time'].dt.hour==k) & (weat['time'].dt.day==j) & (weat['time'].dt.month==i)]['Wind Speed'].values)>0):\n",
    "                ans = weat[(weat['time'].dt.hour==k) & (weat['time'].dt.day==j) & (weat['time'].dt.month==i)]['Wind Speed'].values[0]\n",
    "                #print(ans)\n",
    "                ATL.loc[(ATL['time'].dt.day==j) & (ATL['time'].dt.month==i) & (ATL['time'].dt.hour==k) ,'Wind Speed'] = ans\n",
    "                print(ATL.loc[(ATL['time'].dt.day==j) & (ATL['time'].dt.month==i) & (ATL['time'].dt.hour==k) ,'Wind Speed'])\n",
    "\n",
    "for i in range(1,13):\n",
    "    for j in range(1,32):\n",
    "        hoursunique = ATL.loc[(ATL['time'].dt.day==j) & (ATL['time'].dt.month==i)]['time'].dt.hour.unique()\n",
    "        for k in hoursunique:\n",
    "            if(len(weat[(weat['time'].dt.hour==k) & (weat['time'].dt.day==j) & (weat['time'].dt.month==i)]['Dew Point'].values)>0):\n",
    "                ans = weat[(weat['time'].dt.hour==k) & (weat['time'].dt.day==j) & (weat['time'].dt.month==i)]['Dew Point'].values[0]\n",
    "                #print(ans)\n",
    "                ATL.loc[(ATL['time'].dt.day==j) & (ATL['time'].dt.month==i) & (ATL['time'].dt.hour==k) ,'Dew Point'] = ans\n",
    "                print(ATL.loc[(ATL['time'].dt.day==j) & (ATL['time'].dt.month==i) & (ATL['time'].dt.hour==k) ,'Dew Point'])\n",
    "\n",
    "for i in range(1,13):\n",
    "    for j in range(1,32):\n",
    "        hoursunique = ATL.loc[(ATL['time'].dt.day==j) & (ATL['time'].dt.month==i)]['time'].dt.hour.unique()\n",
    "        for k in hoursunique:\n",
    "            if(len(weat[(weat['time'].dt.hour==k) & (weat['time'].dt.day==j) & (weat['time'].dt.month==i)]['Humidity'].values)>0):\n",
    "                ans = weat[(weat['time'].dt.hour==k) & (weat['time'].dt.day==j) & (weat['time'].dt.month==i)]['Humidity'].values[0]\n",
    "                #print(ans)\n",
    "                ATL.loc[(ATL['time'].dt.day==j) & (ATL['time'].dt.month==i) & (ATL['time'].dt.hour==k) ,'Humidity'] = ans\n",
    "                print(ATL.loc[(ATL['time'].dt.day==j) & (ATL['time'].dt.month==i) & (ATL['time'].dt.hour==k) ,'Humidity'])\n",
    "\n",
    "for i in range(1,13):\n",
    "    for j in range(1,32):\n",
    "        hoursunique = ATL.loc[(ATL['time'].dt.day==j) & (ATL['time'].dt.month==i)]['time'].dt.hour.unique()\n",
    "        for k in hoursunique:\n",
    "            if(len(weat[(weat['time'].dt.hour==k) & (weat['time'].dt.day==j) & (weat['time'].dt.month==i)]['Pressure'].values)>0):\n",
    "                ans = weat[(weat['time'].dt.hour==k) & (weat['time'].dt.day==j) & (weat['time'].dt.month==i)]['Pressure'].values[0]\n",
    "                #print(ans)\n",
    "                ATL.loc[(ATL['time'].dt.day==j) & (ATL['time'].dt.month==i) & (ATL['time'].dt.hour==k) ,'Pressure'] = ans\n",
    "                print(ATL.loc[(ATL['time'].dt.day==j) & (ATL['time'].dt.month==i) & (ATL['time'].dt.hour==k) ,'Pressure'])\n",
    "\n",
    "for i in range(1,13):\n",
    "    for j in range(1,32):\n",
    "        hoursunique = ATL.loc[(ATL['time'].dt.day==j) & (ATL['time'].dt.month==i)]['time'].dt.hour.unique()\n",
    "        for k in hoursunique:\n",
    "            if(len(weat[(weat['time'].dt.hour==k) & (weat['time'].dt.day==j) & (weat['time'].dt.month==i)]['Precipitation'].values)>0):\n",
    "                ans = weat[(weat['time'].dt.hour==k) & (weat['time'].dt.day==j) & (weat['time'].dt.month==i)]['Precipitation'].values[0]\n",
    "                #print(ans)\n",
    "                ATL.loc[(ATL['time'].dt.day==j) & (ATL['time'].dt.month==i) & (ATL['time'].dt.hour==k) ,'Precipitation'] = ans\n",
    "                print(ATL.loc[(ATL['time'].dt.day==j) & (ATL['time'].dt.month==i) & (ATL['time'].dt.hour==k) ,'Precipitation'])"
   ]
  }
 ],
 "metadata": {
  "kernelspec": {
   "display_name": "Python 3 (ipykernel)",
   "language": "python",
   "name": "python3"
  },
  "language_info": {
   "codemirror_mode": {
    "name": "ipython",
    "version": 3
   },
   "file_extension": ".py",
   "mimetype": "text/x-python",
   "name": "python",
   "nbconvert_exporter": "python",
   "pygments_lexer": "ipython3",
   "version": "3.8.10"
  }
 },
 "nbformat": 4,
 "nbformat_minor": 5
}
