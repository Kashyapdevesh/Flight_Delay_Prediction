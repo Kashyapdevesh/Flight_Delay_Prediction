{
 "cells": [
  {
   "cell_type": "code",
   "execution_count": null,
   "id": "c7634e34",
   "metadata": {},
   "outputs": [],
   "source": [
    "import pandas as pd\n",
    "import numpy as np\n",
    "import matplotlib.pyplot as plt\n",
    "import seaborn as sns"
   ]
  },
  {
   "cell_type": "code",
   "execution_count": null,
   "id": "0423b318",
   "metadata": {},
   "outputs": [],
   "source": [
    "pd.set_option('max_columns',None)"
   ]
  },
  {
   "cell_type": "code",
   "execution_count": null,
   "id": "fac597db",
   "metadata": {},
   "outputs": [],
   "source": [
    "df2016 = pd.read_csv('./2016.csv')\n",
    "df2017 = pd.read_csv('./2017.csv')\n",
    "df2018 = pd.read_csv('./2018.csv')"
   ]
  },
  {
   "cell_type": "code",
   "execution_count": null,
   "id": "b37b4d89",
   "metadata": {},
   "outputs": [],
   "source": [
    "df = pd.concat([df2016,df2017,df2018]).drop(\"Unnamed: 0\",axis=1).reset_index(drop=True)"
   ]
  },
  {
   "cell_type": "markdown",
   "id": "33289790",
   "metadata": {},
   "source": [
    "## extracting month,hours and year from the time column"
   ]
  },
  {
   "cell_type": "code",
   "execution_count": null,
   "id": "a7a5066a",
   "metadata": {},
   "outputs": [],
   "source": [
    "df['time'] = pd.to_datetime(df['time'],format= \"%Y-%m-%d %H:%M:%S\")\n",
    "df['month'] = df['time'].dt.month\n",
    "df['hours'] = df['time'].dt.hour\n",
    "df['year'] = df['time'].dt.year"
   ]
  },
  {
   "cell_type": "markdown",
   "id": "0376ccea",
   "metadata": {},
   "source": [
    "## taking the columns with weather delay greater than zero "
   ]
  },
  {
   "cell_type": "code",
   "execution_count": null,
   "id": "5f2854ce",
   "metadata": {},
   "outputs": [],
   "source": [
    "findf = df[(df['WEATHER_DELAY'].isna()==False) & (df['WEATHER_DELAY']>0)]"
   ]
  },
  {
   "cell_type": "markdown",
   "id": "dc3d3c74",
   "metadata": {},
   "source": [
    "## setting the catogerical columns "
   ]
  },
  {
   "cell_type": "code",
   "execution_count": null,
   "id": "98f9584a",
   "metadata": {},
   "outputs": [],
   "source": [
    "findf['month'] = pd.Categorical(findf['month'])\n",
    "findf['hours'] = pd.Categorical(findf['hours'])\n",
    "findf['Wind Speed'] = pd.Categorical(findf['Wind Speed'])\n",
    "findf['Precipitation'] = pd.Categorical(findf['Precipitation'])"
   ]
  },
  {
   "cell_type": "markdown",
   "id": "7ebae03f",
   "metadata": {},
   "source": [
    "# data preprocessing"
   ]
  },
  {
   "cell_type": "code",
   "execution_count": null,
   "id": "bf48ec82",
   "metadata": {},
   "outputs": [],
   "source": [
    "from sklearn.model_selection import train_test_split\n",
    "xtrain,xtest,ytrain,ytest = train_test_split(\n",
    "    findf[['Temperature','Dew Point','Humidity','Wind Speed','Pressure','Precipitation','month','hours']]\n",
    "    ,findf['WEATHER_DELAY'],test_size=0.2)\n",
    "from sklearn.preprocessing import MinMaxScaler\n",
    "scaler = MinMaxScaler()\n",
    "scaler.fit(xtrain)\n",
    "x_train = scaler.transform(xtrain)\n",
    "x_test = scaler.transform(xtest)"
   ]
  },
  {
   "cell_type": "markdown",
   "id": "37bc3968",
   "metadata": {},
   "source": [
    "# models"
   ]
  },
  {
   "cell_type": "code",
   "execution_count": null,
   "id": "52307299",
   "metadata": {},
   "outputs": [],
   "source": [
    "from mlxtend.regressor import StackingCVRegressor\n",
    "from xgboost import XGBRegressor\n",
    "from sklearn.mixture import GaussianMixture\n",
    "from sklearn.metrics import mean_absolute_error,mean_squared_error\n",
    "from sklearn.linear_model import Lasso\n",
    "from sklearn.model_selection import GridSearchCV\n",
    "from xgboost import XGBRFRegressor\n",
    "from sklearn.ensemble import RandomForestRegressor"
   ]
  },
  {
   "cell_type": "markdown",
   "id": "5e5a9931",
   "metadata": {},
   "source": [
    "## the final function"
   ]
  },
  {
   "cell_type": "code",
   "execution_count": null,
   "id": "f445fff8",
   "metadata": {},
   "outputs": [],
   "source": [
    "import joblib\n",
    "import time \n",
    "import pickle"
   ]
  },
  {
   "cell_type": "code",
   "execution_count": null,
   "id": "2d164a72",
   "metadata": {},
   "outputs": [],
   "source": [
    "def savemodel(model_file_name):\n",
    "    clf = None\n",
    "    joblib.dump(clf, model_file_name)\n",
    "    model_directory = \"/home/shaury/Desktop/pvsc/alibaba\"\n",
    "    model_file_name = f'{model_directory}/model.pkl'\n",
    "    joblib.dump(clf, model_file_name)"
   ]
  },
  {
   "cell_type": "code",
   "execution_count": null,
   "id": "576d2648",
   "metadata": {},
   "outputs": [],
   "source": [
    "def main_model_function(x_train,ytrain):\n",
    "    start = time.time()\n",
    "    #gaussian mixture model\n",
    "    err,I = 1000,0\n",
    "    for i in range(1,40):\n",
    "        gbmodel = GaussianMixture(n_components=i)\n",
    "        gbmodel.fit(x_train,ytrain)\n",
    "        if(err>mean_absolute_error(gbmodel.predict(x_train),ytrain)):\n",
    "            err = mean_absolute_error(gbmodel.predict(x_train),ytrain)\n",
    "            I = i\n",
    "    gbmodel = GaussianMixture(n_components=I)\n",
    "   \n",
    "    \n",
    "    # lasso model\n",
    "    alphas = 10**np.arange(-7,0,0.1)\n",
    "    params = {\"alpha\":alphas}\n",
    "    lassocv = GridSearchCV(Lasso(max_iter=1e7),param_grid=params,verbose = 5)\n",
    "    lassocv.fit(x_train,ytrain)\n",
    "    lassomodel = Lasso(alpha = lassocv.best_params_['alpha'],max_iter=1e7)\n",
    "    \n",
    "    \n",
    "    #random forest regressor\n",
    "    rfc = RandomForestRegressor(n_estimators=200 , max_depth=15)\n",
    "    \n",
    "    \n",
    "    #xgb regressor\n",
    "    lrate = 10**(np.arange(-2,0.2,0.01))\n",
    "    cvxg = GridSearchCV(XGBRegressor(n_estimators=150),\n",
    "                        param_grid={\"learning_rate\":lrate},verbose=5).fit(x_train,ytrain)\n",
    "    xgbmodel = XGBRegressor(n_estimators=150,learning_rate=cvxg.best_params_['learning_rate'])\n",
    "   \n",
    "    \n",
    "    stack = StackingCVRegressor(regressors=(gbmodel, lassomodel, rfc, xgbmodel),\n",
    "                            meta_regressor=xgbmodel, cv=10,\n",
    "                            use_features_in_secondary=True,\n",
    "                            store_train_meta_features=True,\n",
    "                            shuffle=False,\n",
    "                            random_state=42)\n",
    "    stack.fit(x_train,ytrain)\n",
    "    print(start- time.time())\n",
    "    return stack"
   ]
  },
  {
   "cell_type": "code",
   "execution_count": null,
   "id": "25614534",
   "metadata": {},
   "outputs": [],
   "source": [
    "model = main_model_function(x_train,ytrain)"
   ]
  },
  {
   "cell_type": "code",
   "execution_count": null,
   "id": "0baa397e",
   "metadata": {},
   "outputs": [],
   "source": [
    "import pickle\n",
    "Pkl_Filename = \"./model.pkl\"  \n",
    "\n",
    "with open(Pkl_Filename, 'wb') as file:  \n",
    "    pickle.dump(model, file)"
   ]
  }
 ],
 "metadata": {
  "kernelspec": {
   "display_name": "Python 3 (ipykernel)",
   "language": "python",
   "name": "python3"
  },
  "language_info": {
   "codemirror_mode": {
    "name": "ipython",
    "version": 3
   },
   "file_extension": ".py",
   "mimetype": "text/x-python",
   "name": "python",
   "nbconvert_exporter": "python",
   "pygments_lexer": "ipython3",
   "version": "3.8.10"
  }
 },
 "nbformat": 4,
 "nbformat_minor": 5
}
