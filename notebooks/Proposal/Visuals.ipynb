{
 "cells": [
  {
   "cell_type": "code",
   "execution_count": 1,
   "id": "8bd1799f",
   "metadata": {},
   "outputs": [],
   "source": [
    "import pandas as pd\n",
    "import numpy as np\n",
    "import seaborn as sns\n",
    "import matplotlib.pyplot as plt\n",
    "%matplotlib inline"
   ]
  },
  {
   "cell_type": "code",
   "execution_count": 2,
   "id": "e2981051",
   "metadata": {},
   "outputs": [],
   "source": [
    "df = pd.read_csv('/home/shaury/final.csv',index_col='Unnamed: 0')\n",
    "pd.set_option(\"display.max_columns\", None)"
   ]
  },
  {
   "cell_type": "code",
   "execution_count": 3,
   "id": "37b8b1b6",
   "metadata": {},
   "outputs": [],
   "source": [
    "df.fillna(0,inplace=True)"
   ]
  },
  {
   "cell_type": "code",
   "execution_count": 4,
   "id": "6e4b9a15",
   "metadata": {},
   "outputs": [
    {
     "data": {
      "text/html": [
       "<div>\n",
       "<style scoped>\n",
       "    .dataframe tbody tr th:only-of-type {\n",
       "        vertical-align: middle;\n",
       "    }\n",
       "\n",
       "    .dataframe tbody tr th {\n",
       "        vertical-align: top;\n",
       "    }\n",
       "\n",
       "    .dataframe thead th {\n",
       "        text-align: right;\n",
       "    }\n",
       "</style>\n",
       "<table border=\"1\" class=\"dataframe\">\n",
       "  <thead>\n",
       "    <tr style=\"text-align: right;\">\n",
       "      <th></th>\n",
       "      <th>FL_DATE</th>\n",
       "      <th>ORIGIN</th>\n",
       "      <th>DEST</th>\n",
       "      <th>CRS_DEP_TIME</th>\n",
       "      <th>DEP_TIME</th>\n",
       "      <th>DEP_DELAY</th>\n",
       "      <th>WHEELS_OFF</th>\n",
       "      <th>WHEELS_ON</th>\n",
       "      <th>TAXI_IN</th>\n",
       "      <th>CRS_ARR_TIME</th>\n",
       "      <th>ARR_DELAY</th>\n",
       "      <th>CANCELLED</th>\n",
       "      <th>DIVERTED</th>\n",
       "      <th>CRS_ELAPSED_TIME</th>\n",
       "      <th>ACTUAL_ELAPSED_TIME</th>\n",
       "      <th>AIR_TIME</th>\n",
       "      <th>DISTANCE</th>\n",
       "      <th>CARRIER_DELAY</th>\n",
       "      <th>WEATHER_DELAY</th>\n",
       "      <th>LATE_AIRCRAFT_DELAY</th>\n",
       "      <th>Temperature</th>\n",
       "      <th>Dew Point</th>\n",
       "      <th>Humidity</th>\n",
       "      <th>Wind Speed</th>\n",
       "      <th>Wind Gust</th>\n",
       "      <th>Pressure</th>\n",
       "      <th>Precipitation</th>\n",
       "      <th>Condition</th>\n",
       "      <th>time</th>\n",
       "    </tr>\n",
       "  </thead>\n",
       "  <tbody>\n",
       "    <tr>\n",
       "      <th>0</th>\n",
       "      <td>2018-01-01</td>\n",
       "      <td>ATL</td>\n",
       "      <td>EWR</td>\n",
       "      <td>1819</td>\n",
       "      <td>1818.0</td>\n",
       "      <td>-1.0</td>\n",
       "      <td>1834.0</td>\n",
       "      <td>2004.0</td>\n",
       "      <td>17.0</td>\n",
       "      <td>2048</td>\n",
       "      <td>-27.0</td>\n",
       "      <td>0.0</td>\n",
       "      <td>0.0</td>\n",
       "      <td>149.0</td>\n",
       "      <td>123.0</td>\n",
       "      <td>90.0</td>\n",
       "      <td>746.0</td>\n",
       "      <td>0.0</td>\n",
       "      <td>0.0</td>\n",
       "      <td>0.0</td>\n",
       "      <td>25</td>\n",
       "      <td>8</td>\n",
       "      <td>49</td>\n",
       "      <td>12</td>\n",
       "      <td>0</td>\n",
       "      <td>29.36</td>\n",
       "      <td>0.0</td>\n",
       "      <td>Fair</td>\n",
       "      <td>2018-01-01 18:18:00</td>\n",
       "    </tr>\n",
       "    <tr>\n",
       "      <th>1</th>\n",
       "      <td>2018-01-01</td>\n",
       "      <td>ATL</td>\n",
       "      <td>SFO</td>\n",
       "      <td>730</td>\n",
       "      <td>729.0</td>\n",
       "      <td>-1.0</td>\n",
       "      <td>750.0</td>\n",
       "      <td>948.0</td>\n",
       "      <td>4.0</td>\n",
       "      <td>956</td>\n",
       "      <td>-4.0</td>\n",
       "      <td>0.0</td>\n",
       "      <td>0.0</td>\n",
       "      <td>326.0</td>\n",
       "      <td>323.0</td>\n",
       "      <td>298.0</td>\n",
       "      <td>2139.0</td>\n",
       "      <td>0.0</td>\n",
       "      <td>0.0</td>\n",
       "      <td>0.0</td>\n",
       "      <td>19</td>\n",
       "      <td>5</td>\n",
       "      <td>54</td>\n",
       "      <td>13</td>\n",
       "      <td>0</td>\n",
       "      <td>29.27</td>\n",
       "      <td>0.0</td>\n",
       "      <td>Cloudy</td>\n",
       "      <td>2018-01-01 07:29:00</td>\n",
       "    </tr>\n",
       "    <tr>\n",
       "      <th>2</th>\n",
       "      <td>2018-01-01</td>\n",
       "      <td>ATL</td>\n",
       "      <td>EWR</td>\n",
       "      <td>1555</td>\n",
       "      <td>1549.0</td>\n",
       "      <td>-6.0</td>\n",
       "      <td>1626.0</td>\n",
       "      <td>1826.0</td>\n",
       "      <td>29.0</td>\n",
       "      <td>1816</td>\n",
       "      <td>39.0</td>\n",
       "      <td>0.0</td>\n",
       "      <td>0.0</td>\n",
       "      <td>141.0</td>\n",
       "      <td>186.0</td>\n",
       "      <td>120.0</td>\n",
       "      <td>746.0</td>\n",
       "      <td>0.0</td>\n",
       "      <td>0.0</td>\n",
       "      <td>0.0</td>\n",
       "      <td>28</td>\n",
       "      <td>11</td>\n",
       "      <td>49</td>\n",
       "      <td>9</td>\n",
       "      <td>0</td>\n",
       "      <td>29.33</td>\n",
       "      <td>0.0</td>\n",
       "      <td>Cloudy</td>\n",
       "      <td>2018-01-01 15:49:00</td>\n",
       "    </tr>\n",
       "    <tr>\n",
       "      <th>3</th>\n",
       "      <td>2018-01-01</td>\n",
       "      <td>ATL</td>\n",
       "      <td>ORD</td>\n",
       "      <td>1748</td>\n",
       "      <td>1751.0</td>\n",
       "      <td>3.0</td>\n",
       "      <td>1808.0</td>\n",
       "      <td>1843.0</td>\n",
       "      <td>3.0</td>\n",
       "      <td>1901</td>\n",
       "      <td>-15.0</td>\n",
       "      <td>0.0</td>\n",
       "      <td>0.0</td>\n",
       "      <td>133.0</td>\n",
       "      <td>115.0</td>\n",
       "      <td>95.0</td>\n",
       "      <td>606.0</td>\n",
       "      <td>0.0</td>\n",
       "      <td>0.0</td>\n",
       "      <td>0.0</td>\n",
       "      <td>27</td>\n",
       "      <td>10</td>\n",
       "      <td>49</td>\n",
       "      <td>13</td>\n",
       "      <td>0</td>\n",
       "      <td>29.35</td>\n",
       "      <td>0.0</td>\n",
       "      <td>Partly Cloudy</td>\n",
       "      <td>2018-01-01 17:51:00</td>\n",
       "    </tr>\n",
       "    <tr>\n",
       "      <th>4</th>\n",
       "      <td>2018-01-01</td>\n",
       "      <td>ATL</td>\n",
       "      <td>IAD</td>\n",
       "      <td>943</td>\n",
       "      <td>1005.0</td>\n",
       "      <td>22.0</td>\n",
       "      <td>1023.0</td>\n",
       "      <td>1133.0</td>\n",
       "      <td>3.0</td>\n",
       "      <td>1130</td>\n",
       "      <td>6.0</td>\n",
       "      <td>0.0</td>\n",
       "      <td>0.0</td>\n",
       "      <td>107.0</td>\n",
       "      <td>91.0</td>\n",
       "      <td>70.0</td>\n",
       "      <td>534.0</td>\n",
       "      <td>0.0</td>\n",
       "      <td>0.0</td>\n",
       "      <td>0.0</td>\n",
       "      <td>19</td>\n",
       "      <td>6</td>\n",
       "      <td>57</td>\n",
       "      <td>15</td>\n",
       "      <td>0</td>\n",
       "      <td>29.36</td>\n",
       "      <td>0.0</td>\n",
       "      <td>Light Snow</td>\n",
       "      <td>2018-01-01 10:05:00</td>\n",
       "    </tr>\n",
       "  </tbody>\n",
       "</table>\n",
       "</div>"
      ],
      "text/plain": [
       "      FL_DATE ORIGIN DEST  CRS_DEP_TIME  DEP_TIME  DEP_DELAY  WHEELS_OFF  \\\n",
       "0  2018-01-01    ATL  EWR          1819    1818.0       -1.0      1834.0   \n",
       "1  2018-01-01    ATL  SFO           730     729.0       -1.0       750.0   \n",
       "2  2018-01-01    ATL  EWR          1555    1549.0       -6.0      1626.0   \n",
       "3  2018-01-01    ATL  ORD          1748    1751.0        3.0      1808.0   \n",
       "4  2018-01-01    ATL  IAD           943    1005.0       22.0      1023.0   \n",
       "\n",
       "   WHEELS_ON  TAXI_IN  CRS_ARR_TIME  ARR_DELAY  CANCELLED  DIVERTED  \\\n",
       "0     2004.0     17.0          2048      -27.0        0.0       0.0   \n",
       "1      948.0      4.0           956       -4.0        0.0       0.0   \n",
       "2     1826.0     29.0          1816       39.0        0.0       0.0   \n",
       "3     1843.0      3.0          1901      -15.0        0.0       0.0   \n",
       "4     1133.0      3.0          1130        6.0        0.0       0.0   \n",
       "\n",
       "   CRS_ELAPSED_TIME  ACTUAL_ELAPSED_TIME  AIR_TIME  DISTANCE  CARRIER_DELAY  \\\n",
       "0             149.0                123.0      90.0     746.0            0.0   \n",
       "1             326.0                323.0     298.0    2139.0            0.0   \n",
       "2             141.0                186.0     120.0     746.0            0.0   \n",
       "3             133.0                115.0      95.0     606.0            0.0   \n",
       "4             107.0                 91.0      70.0     534.0            0.0   \n",
       "\n",
       "   WEATHER_DELAY  LATE_AIRCRAFT_DELAY  Temperature  Dew Point  Humidity  \\\n",
       "0            0.0                  0.0           25          8        49   \n",
       "1            0.0                  0.0           19          5        54   \n",
       "2            0.0                  0.0           28         11        49   \n",
       "3            0.0                  0.0           27         10        49   \n",
       "4            0.0                  0.0           19          6        57   \n",
       "\n",
       "   Wind Speed  Wind Gust  Pressure  Precipitation      Condition  \\\n",
       "0          12          0     29.36            0.0           Fair   \n",
       "1          13          0     29.27            0.0         Cloudy   \n",
       "2           9          0     29.33            0.0         Cloudy   \n",
       "3          13          0     29.35            0.0  Partly Cloudy   \n",
       "4          15          0     29.36            0.0     Light Snow   \n",
       "\n",
       "                  time  \n",
       "0  2018-01-01 18:18:00  \n",
       "1  2018-01-01 07:29:00  \n",
       "2  2018-01-01 15:49:00  \n",
       "3  2018-01-01 17:51:00  \n",
       "4  2018-01-01 10:05:00  "
      ]
     },
     "execution_count": 4,
     "metadata": {},
     "output_type": "execute_result"
    }
   ],
   "source": [
    "df.head()"
   ]
  },
  {
   "cell_type": "code",
   "execution_count": 5,
   "id": "9278944c",
   "metadata": {},
   "outputs": [
    {
     "data": {
      "text/plain": [
       "0.0      379167\n",
       "10.0        257\n",
       "6.0         245\n",
       "7.0         244\n",
       "8.0         232\n",
       "          ...  \n",
       "697.0         1\n",
       "349.0         1\n",
       "213.0         1\n",
       "355.0         1\n",
       "521.0         1\n",
       "Name: WEATHER_DELAY, Length: 452, dtype: int64"
      ]
     },
     "execution_count": 5,
     "metadata": {},
     "output_type": "execute_result"
    }
   ],
   "source": [
    "df['WEATHER_DELAY'].value_counts()"
   ]
  },
  {
   "cell_type": "code",
   "execution_count": 6,
   "id": "7840b88d",
   "metadata": {},
   "outputs": [],
   "source": [
    "df1 = df[df['WEATHER_DELAY']>0]"
   ]
  },
  {
   "cell_type": "code",
   "execution_count": 7,
   "id": "5481dd5e",
   "metadata": {},
   "outputs": [
    {
     "data": {
      "text/plain": [
       "<AxesSubplot:xlabel='WEATHER_DELAY', ylabel='Density'>"
      ]
     },
     "execution_count": 7,
     "metadata": {},
     "output_type": "execute_result"
    },
    {
     "data": {
      "image/png": "[encoded data removed]",
      "text/plain": [
       "<Figure size 720x432 with 2 Axes>"
      ]
     },
     "metadata": {
      "needs_background": "light"
     },
     "output_type": "display_data"
    }
   ],
   "source": [
    "fig,axes = plt.subplots(ncols=2,figsize=(10,6))\n",
    "sns.histplot(ax=axes[0],x=df1['WEATHER_DELAY'],bins=500)\n",
    "sns.kdeplot(ax=axes[1],x=df1['WEATHER_DELAY'])"
   ]
  },
  {
   "cell_type": "code",
   "execution_count": 8,
   "id": "41d4695c",
   "metadata": {},
   "outputs": [],
   "source": [
    "def mapiings(x):\n",
    "    if(x==0):\n",
    "        return 0\n",
    "    elif(x<30):\n",
    "        return 30\n",
    "    elif(x<60):\n",
    "        return 60\n",
    "    elif(x<120):\n",
    "        return 120\n",
    "    else:\n",
    "        return 121\n",
    "df['delay'] = df['WEATHER_DELAY'].map(mapiings)"
   ]
  },
  {
   "cell_type": "code",
   "execution_count": 9,
   "id": "18279651",
   "metadata": {},
   "outputs": [
    {
     "data": {
      "text/plain": [
       "0      379167\n",
       "30       5174\n",
       "60       1565\n",
       "120       954\n",
       "121       715\n",
       "Name: delay, dtype: int64"
      ]
     },
     "execution_count": 9,
     "metadata": {},
     "output_type": "execute_result"
    }
   ],
   "source": [
    "df['delay'].value_counts()"
   ]
  },
  {
   "cell_type": "code",
   "execution_count": 31,
   "id": "67a729aa",
   "metadata": {},
   "outputs": [
    {
     "name": "stdout",
     "output_type": "stream",
     "text": [
      "<class 'pandas.core.frame.DataFrame'>\n",
      "Int64Index: 387557 entries, 0 to 390078\n",
      "Data columns (total 30 columns):\n",
      " #   Column               Non-Null Count   Dtype  \n",
      "---  ------               --------------   -----  \n",
      " 0   FL_DATE              387557 non-null  object \n",
      " 1   ORIGIN               387557 non-null  object \n",
      " 2   DEST                 387557 non-null  object \n",
      " 3   CRS_DEP_TIME         387557 non-null  int64  \n",
      " 4   DEP_TIME             387557 non-null  float64\n",
      " 5   DEP_DELAY            387557 non-null  float64\n",
      " 6   WHEELS_OFF           387557 non-null  float64\n",
      " 7   WHEELS_ON            387557 non-null  float64\n",
      " 8   TAXI_IN              387557 non-null  float64\n",
      " 9   CRS_ARR_TIME         387557 non-null  int64  \n",
      " 10  ARR_DELAY            387557 non-null  float64\n",
      " 11  CANCELLED            387557 non-null  float64\n",
      " 12  DIVERTED             387557 non-null  float64\n",
      " 13  CRS_ELAPSED_TIME     387557 non-null  float64\n",
      " 14  ACTUAL_ELAPSED_TIME  387557 non-null  float64\n",
      " 15  AIR_TIME             387557 non-null  float64\n",
      " 16  DISTANCE             387557 non-null  float64\n",
      " 17  CARRIER_DELAY        387557 non-null  float64\n",
      " 18  WEATHER_DELAY        387557 non-null  float64\n",
      " 19  LATE_AIRCRAFT_DELAY  387557 non-null  float64\n",
      " 20  time                 387557 non-null  object \n",
      " 21  Temperature          387557 non-null  int64  \n",
      " 22  Dew Point            387557 non-null  int64  \n",
      " 23  Humidity             387557 non-null  int64  \n",
      " 24  Wind Speed           387557 non-null  int64  \n",
      " 25  Wind Gust            387557 non-null  int64  \n",
      " 26  Pressure             387557 non-null  float64\n",
      " 27  Precipitation        387557 non-null  float64\n",
      " 28  Condition            387557 non-null  object \n",
      " 29  delay                387557 non-null  int64  \n",
      "dtypes: float64(17), int64(8), object(5)\n",
      "memory usage: 99.7+ MB\n"
     ]
    }
   ],
   "source": [
    "df.info()"
   ]
  },
  {
   "cell_type": "code",
   "execution_count": 11,
   "id": "97d97b4c",
   "metadata": {},
   "outputs": [],
   "source": [
    "df.loc[df['Condition']=='0','Condition'] = None"
   ]
  },
  {
   "cell_type": "code",
   "execution_count": 12,
   "id": "177abb13",
   "metadata": {},
   "outputs": [
    {
     "data": {
      "text/plain": [
       "Mostly Cloudy              122947\n",
       "Fair                        84859\n",
       "Partly Cloudy               56165\n",
       "Cloudy                      52473\n",
       "Light Rain                  21717\n",
       "Fog                          5510\n",
       "Light Drizzle                4960\n",
       "Rain                         2728\n",
       "Fair / Windy                 2334\n",
       "Drizzle and Fog              1718\n",
       "Thunder in the Vicinity      1574\n",
       "Mostly Cloudy / Windy        1483\n",
       "Cloudy / Windy               1412\n",
       "T-Storm                      1189\n",
       "Heavy Rain                   1173\n",
       "Thunder                      1107\n",
       "Light Rain with Thunder      1010\n",
       "Haze                          908\n",
       "Heavy T-Storm                 631\n",
       "Mist                          477\n",
       "Partly Cloudy / Windy         430\n",
       "Rain / Windy                  326\n",
       "Light Rain / Windy            311\n",
       "Heavy Rain / Windy            188\n",
       "Light Snow                    164\n",
       "Heavy T-Storm / Windy         139\n",
       "Patches of Fog                 48\n",
       "Name: Condition, dtype: int64"
      ]
     },
     "execution_count": 12,
     "metadata": {},
     "output_type": "execute_result"
    }
   ],
   "source": [
    "df['Condition'].value_counts()"
   ]
  },
  {
   "cell_type": "code",
   "execution_count": 14,
   "id": "1c511830",
   "metadata": {},
   "outputs": [
    {
     "data": {
      "text/plain": [
       "<AxesSubplot:xlabel='count', ylabel='Condition'>"
      ]
     },
     "execution_count": 14,
     "metadata": {},
     "output_type": "execute_result"
    },
    {
     "data": {
      "image/png": "[encoded data removed]",
      "text/plain": [
       "<Figure size 720x576 with 1 Axes>"
      ]
     },
     "metadata": {
      "needs_background": "light"
     },
     "output_type": "display_data"
    }
   ],
   "source": [
    "plt.figure(figsize=(10,8))\n",
    "sns.countplot(y=df[df['delay']>0]['Condition'],hue=df['delay'])"
   ]
  },
  {
   "cell_type": "code",
   "execution_count": 13,
   "id": "640f7d1f",
   "metadata": {},
   "outputs": [
    {
     "data": {
      "text/plain": [
       "<matplotlib.legend.Legend at 0x7fa819bccd30>"
      ]
     },
     "execution_count": 13,
     "metadata": {},
     "output_type": "execute_result"
    },
    {
     "data": {
      "image/png": "[encoded data removed]",
      "text/plain": [
       "<Figure size 432x288 with 1 Axes>"
      ]
     },
     "metadata": {
      "needs_background": "light"
     },
     "output_type": "display_data"
    }
   ],
   "source": [
    "sns.countplot(x=df[df['CANCELLED']==1]['CANCELLED'],hue=df['Condition'])\n",
    "plt.legend(bbox_to_anchor=(1,1.3))"
   ]
  },
  {
   "cell_type": "markdown",
   "id": "a950e879",
   "metadata": {},
   "source": [
    "df1 = df.drop(['WHEELS_ON','WHEELS_OFF','DEST','FL_DATE','DEP_TIME',\n",
    "         'TAXI_IN','CRS_ARR_TIME',\"AIR_TIME\",'ACTUAL_ELAPSED_TIME','CRS_ELAPSED_TIME'],axis=1)"
   ]
  },
  {
   "cell_type": "markdown",
   "id": "fdec734d",
   "metadata": {},
   "source": [
    "df1.sort_values('time',inplace=True)\n",
    "df1.set_index('time').to_csv('/home/shaury/Desktop/pvsc/dataset/final.csv')"
   ]
  },
  {
   "cell_type": "code",
   "execution_count": null,
   "id": "70c52be0",
   "metadata": {},
   "outputs": [],
   "source": []
  },
  {
   "cell_type": "code",
   "execution_count": null,
   "id": "12f23b9e",
   "metadata": {},
   "outputs": [],
   "source": []
  },
  {
   "cell_type": "code",
   "execution_count": null,
   "id": "f7816a8c",
   "metadata": {},
   "outputs": [],
   "source": []
  },
  {
   "cell_type": "code",
   "execution_count": null,
   "id": "71920681",
   "metadata": {},
   "outputs": [],
   "source": []
  },
  {
   "cell_type": "code",
   "execution_count": null,
   "id": "4bfa4415",
   "metadata": {},
   "outputs": [],
   "source": []
  },
  {
   "cell_type": "code",
   "execution_count": null,
   "id": "91d5d485",
   "metadata": {},
   "outputs": [],
   "source": []
  }
 ],
 "metadata": {
  "kernelspec": {
   "display_name": "Python 3 (ipykernel)",
   "language": "python",
   "name": "python3"
  },
  "language_info": {
   "codemirror_mode": {
    "name": "ipython",
    "version": 3
   },
   "file_extension": ".py",
   "mimetype": "text/x-python",
   "name": "python",
   "nbconvert_exporter": "python",
   "pygments_lexer": "ipython3",
   "version": "3.8.10"
  }
 },
 "nbformat": 4,
 "nbformat_minor": 5
}
